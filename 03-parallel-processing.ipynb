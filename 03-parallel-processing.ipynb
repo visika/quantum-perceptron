{
 "cells": [
  {
   "cell_type": "markdown",
   "metadata": {},
   "source": [
    "# Parallel construction of circuits\n",
    "\n",
    "In this notebook we try to prepare all the circuits beforehand, and then simulate them all at once."
   ]
  },
  {
   "cell_type": "code",
   "execution_count": null,
   "metadata": {
    "collapsed": false,
    "jupyter": {
     "outputs_hidden": false
    },
    "pycharm": {
     "name": "#%%\n"
    }
   },
   "outputs": [],
   "source": [
    "import math\n",
    "import numpy as np\n",
    "from qiskit import (\n",
    "    QuantumCircuit,\n",
    "    ClassicalRegister,\n",
    "    QuantumRegister,\n",
    "    execute,\n",
    "    Aer,\n",
    "    BasicAer\n",
    "    )\n",
    "from qiskit.tools.visualization import plot_histogram, plot_state_city, plot_bloch_multivector\n",
    "import matplotlib.pyplot as plt\n",
    "import random\n",
    "import qiskit"
   ]
  },
  {
   "cell_type": "code",
   "execution_count": null,
   "metadata": {
    "collapsed": false,
    "jupyter": {
     "outputs_hidden": false
    },
    "pycharm": {
     "name": "#%%\n"
    }
   },
   "outputs": [],
   "source": [
    "q = QuantumRegister(1,\"q\")\n",
    "c = ClassicalRegister(1,\"c\")\n",
    "circuit = QuantumCircuit(q,c)\n",
    "circuit.h(q)\n",
    "circuit.measure(q,c)"
   ]
  },
  {
   "cell_type": "code",
   "execution_count": null,
   "metadata": {
    "collapsed": false,
    "jupyter": {
     "outputs_hidden": false
    },
    "pycharm": {
     "name": "#%%\n"
    }
   },
   "outputs": [],
   "source": [
    "backend = BasicAer.get_backend('statevector_simulator')\n",
    "job = execute(circuit, backend)\n",
    "result = job.result()\n",
    "output_state = result.get_statevector(circuit, decimals=2)\n",
    "print(\"state vector after circuit:\", output_state)\n",
    "print(circuit.draw())\n"
   ]
  },
  {
   "cell_type": "code",
   "execution_count": null,
   "metadata": {
    "collapsed": false,
    "jupyter": {
     "outputs_hidden": false
    },
    "pycharm": {
     "name": "#%%\n"
    }
   },
   "outputs": [],
   "source": [
    "simulator = Aer.get_backend('qasm_simulator')\n",
    "job = execute(circuit, simulator, shots=1024)\n",
    "result = job.result()\n",
    "counts = result.get_counts(circuit)\n",
    "print(\"\\nTotal counts are:\",counts)\n"
   ]
  },
  {
   "cell_type": "code",
   "execution_count": null,
   "metadata": {
    "collapsed": false,
    "jupyter": {
     "outputs_hidden": false
    },
    "pycharm": {
     "name": "#%%\n"
    }
   },
   "outputs": [],
   "source": [
    "qc_list = [circuit,circuit]"
   ]
  },
  {
   "cell_type": "code",
   "execution_count": null,
   "metadata": {
    "collapsed": false,
    "jupyter": {
     "outputs_hidden": false
    },
    "pycharm": {
     "name": "#%%\n"
    }
   },
   "outputs": [],
   "source": [
    "# Add to your import statements\n",
    "from qiskit.compiler import transpile, assemble\n",
    "\n",
    "# After creating qc_list\n",
    "backend = Aer.get_backend('qasm_simulator')\n",
    "transpiled_circs = transpile(qc_list, backend=backend)\n",
    "qobjs = assemble(transpiled_circs, backend=backend)\n",
    "job_info = backend.run(qobjs)\n",
    "\n",
    "# To get the results\n",
    "for circ_index in range(len(transpiled_circs)):\n",
    "    print(job_info.result().get_counts(transpiled_circs[circ_index]))"
   ]
  },
  {
   "cell_type": "code",
   "execution_count": null,
   "metadata": {
    "collapsed": false,
    "jupyter": {
     "outputs_hidden": false
    },
    "pycharm": {
     "name": "#%%\n"
    }
   },
   "outputs": [],
   "source": []
  },
  {
   "cell_type": "code",
   "execution_count": 40,
   "metadata": {
    "collapsed": false,
    "jupyter": {
     "outputs_hidden": false
    },
    "pycharm": {
     "is_executing": false,
     "name": "#%%\n"
    }
   },
   "outputs": [],
   "source": [
    "import math\n",
    "import numpy as np\n",
    "from qiskit import (\n",
    "    QuantumCircuit,\n",
    "    ClassicalRegister,\n",
    "    QuantumRegister,\n",
    "    execute,\n",
    "    Aer,\n",
    "    BasicAer\n",
    "    )\n",
    "from qiskit.tools.visualization import plot_histogram, plot_state_city, plot_bloch_multivector\n",
    "import matplotlib.pyplot as plt\n",
    "import random\n",
    "import qiskit"
   ]
  },
  {
   "cell_type": "code",
   "execution_count": 41,
   "metadata": {
    "collapsed": false,
    "jupyter": {
     "outputs_hidden": false
    },
    "pycharm": {
     "is_executing": false,
     "name": "#%%\n"
    }
   },
   "outputs": [
    {
     "data": {
      "text/plain": [
       "{'qiskit-terra': '0.10.0',\n",
       " 'qiskit-aer': '0.3.2',\n",
       " 'qiskit-ignis': '0.2.0',\n",
       " 'qiskit-ibmq-provider': '0.3.3',\n",
       " 'qiskit-aqua': '0.6.1',\n",
       " 'qiskit': '0.13.0'}"
      ]
     },
     "execution_count": 41,
     "metadata": {},
     "output_type": "execute_result"
    }
   ],
   "source": [
    "qiskit.__qiskit_version__"
   ]
  },
  {
   "cell_type": "markdown",
   "metadata": {},
   "source": [
    "# Definizione dei sign flip\n",
    "\n",
    "$$SF_{N,j} = O_j (C^NZ) O_j$$\n",
    "\n",
    "$$O_j = \\otimes_{l=0}^{N-1} (NOT_l)^{1-j_l}$$\n",
    "\n",
    "Facciamo $N=3$\n",
    "\n",
    "$j=0$"
   ]
  },
  {
   "cell_type": "code",
   "execution_count": 42,
   "metadata": {
    "collapsed": false,
    "jupyter": {
     "outputs_hidden": false
    },
    "pycharm": {
     "is_executing": false,
     "name": "#%%\n"
    }
   },
   "outputs": [],
   "source": [
    "N=4"
   ]
  },
  {
   "cell_type": "code",
   "execution_count": 43,
   "metadata": {
    "collapsed": false,
    "jupyter": {
     "outputs_hidden": false
    },
    "pycharm": {
     "is_executing": false,
     "name": "#%%\n"
    }
   },
   "outputs": [
    {
     "data": {
      "text/plain": [
       "array([1., 0., 0., 0., 0., 0., 0., 0., 0., 0., 0., 0., 0., 0., 0., 0.])"
      ]
     },
     "execution_count": 43,
     "metadata": {},
     "output_type": "execute_result"
    }
   ],
   "source": [
    "inputVector = np.zeros(2**N)\n",
    "inputVector[0] = 1\n",
    "inputVector\n",
    "# weightVector = [0,0,0,0,0,1,0,0]"
   ]
  },
  {
   "cell_type": "markdown",
   "metadata": {},
   "source": [
    "j rappresenta gli elementi della base computazionale"
   ]
  },
  {
   "cell_type": "code",
   "execution_count": 44,
   "metadata": {
    "collapsed": false,
    "jupyter": {
     "outputs_hidden": false
    },
    "pycharm": {
     "is_executing": false,
     "name": "#%%\n"
    }
   },
   "outputs": [
    {
     "data": {
      "text/plain": [
       "array([[0., 0., 0., 0.],\n",
       "       [1., 0., 0., 0.],\n",
       "       [0., 1., 0., 0.],\n",
       "       [1., 1., 0., 0.],\n",
       "       [0., 0., 1., 0.],\n",
       "       [1., 0., 1., 0.],\n",
       "       [0., 1., 1., 0.],\n",
       "       [1., 1., 1., 0.],\n",
       "       [0., 0., 0., 1.],\n",
       "       [1., 0., 0., 1.],\n",
       "       [0., 1., 0., 1.],\n",
       "       [1., 1., 0., 1.],\n",
       "       [0., 0., 1., 1.],\n",
       "       [1., 0., 1., 1.],\n",
       "       [0., 1., 1., 1.],\n",
       "       [1., 1., 1., 1.]])"
      ]
     },
     "execution_count": 44,
     "metadata": {},
     "output_type": "execute_result"
    }
   ],
   "source": [
    "base_computazionale = np.zeros((2**N,N))\n",
    "for i in range(2**N):\n",
    "    for cifra in range(N):\n",
    "        base_computazionale[i][cifra] = format(i, '0'+str(N)+'b')[N-1-cifra]\n",
    "base_computazionale\n",
    "\n",
    "# format(2,'0'+str(N)+'b')[2]"
   ]
  },
  {
   "cell_type": "code",
   "execution_count": 45,
   "metadata": {
    "collapsed": false,
    "jupyter": {
     "outputs_hidden": false
    },
    "pycharm": {
     "is_executing": false,
     "name": "#%%\n"
    }
   },
   "outputs": [],
   "source": [
    "q = QuantumRegister(N, 'q')"
   ]
  },
  {
   "cell_type": "code",
   "execution_count": 46,
   "metadata": {
    "collapsed": false,
    "jupyter": {
     "outputs_hidden": false
    },
    "pycharm": {
     "is_executing": false,
     "name": "#%%\n"
    }
   },
   "outputs": [],
   "source": [
    "def O(circuit, N, j):\n",
    "    O_circ = QuantumCircuit(q)\n",
    "    for l in range(N):\n",
    "        if j[l] == 0:\n",
    "            O_circ.x(q[l])\n",
    "    circuit += O_circ\n",
    "\n",
    "def sf(circuit, N, j):\n",
    "    SF = QuantumCircuit(q)\n",
    "    O(SF, N, j)\n",
    "    SF.barrier(q)\n",
    "    SF.mcrz(np.pi, q[:N-1], q[N-1])\n",
    "    SF.barrier(q)\n",
    "    O(SF, N, j)\n",
    "    \n",
    "    circuit += SF"
   ]
  },
  {
   "cell_type": "code",
   "execution_count": 47,
   "metadata": {
    "collapsed": false,
    "jupyter": {
     "outputs_hidden": false
    },
    "pycharm": {
     "is_executing": false,
     "name": "#%%\n"
    }
   },
   "outputs": [],
   "source": [
    "def U_i(circuit, inputVector):\n",
    "    \"\"\"\n",
    "    Funione per codificare il vettore d'input.\n",
    "    Da chiamare dentro il circuito principale.\n",
    "    \"\"\"\n",
    "    u_i = QuantumCircuit(q)\n",
    "    u_i.h(q)\n",
    "    for (index, value) in enumerate(inputVector):\n",
    "        # print(\"U_i, passo \" + str(index))\n",
    "        if inputVector[index]: sf(u_i, N, base_computazionale[index])\n",
    "    circuit += u_i"
   ]
  },
  {
   "cell_type": "code",
   "execution_count": 48,
   "metadata": {
    "collapsed": false,
    "jupyter": {
     "outputs_hidden": false
    },
    "pycharm": {
     "is_executing": false,
     "name": "#%%\n"
    }
   },
   "outputs": [],
   "source": [
    "def U_w(circuit, weightVector):\n",
    "    \"\"\"\n",
    "    Funione per codificare il vettore d'input.\n",
    "    Da chiamare dentro il circuito principale.\n",
    "    \"\"\"\n",
    "    u_w = QuantumCircuit(q)\n",
    "    for (index, value) in enumerate(weightVector):\n",
    "        # print(\"U_w, passo \" + str(index))\n",
    "        if weightVector[index]: sf(u_w, N, base_computazionale[index])\n",
    "    u_w.h(q)\n",
    "    u_w.x(q)\n",
    "    circuit += u_w"
   ]
  },
  {
   "cell_type": "code",
   "execution_count": null,
   "metadata": {
    "collapsed": false,
    "jupyter": {
     "outputs_hidden": false
    },
    "pycharm": {
     "name": "#%%\n"
    }
   },
   "outputs": [],
   "source": [
    "circ = QuantumCircuit(q)\n",
    "U_i(circ, inputVector)\n",
    "circ.draw(output='mpl')\n",
    "# mcrz(self, lam, q_controls, q_target, use_basis_gates=False)"
   ]
  },
  {
   "cell_type": "code",
   "execution_count": 49,
   "metadata": {
    "collapsed": false,
    "jupyter": {
     "outputs_hidden": false
    },
    "pycharm": {
     "is_executing": false,
     "name": "#%%\n"
    }
   },
   "outputs": [],
   "source": [
    "def draw_state_vector(circ):\n",
    "    \"\"\"\n",
    "        Input: \n",
    "            - circ (qiskit.circuit.quantumcircuit.QuantumCircuit) quantum circuit \n",
    "              to be executed\n",
    "        Description:\n",
    "            - Runs the quantum circuit and prints the resulting quantum state vector \n",
    "              and draws the circuit.\n",
    "    \"\"\"\n",
    "    \n",
    "    backend = BasicAer.get_backend('statevector_simulator')\n",
    "    job = execute(circ, backend)\n",
    "    result = job.result()\n",
    "    output_state = result.get_statevector(circ, decimals=2)\n",
    "    print(\"state vector after circuit:\", output_state)\n",
    "    print(circ.draw())"
   ]
  },
  {
   "cell_type": "code",
   "execution_count": null,
   "metadata": {
    "collapsed": false,
    "jupyter": {
     "outputs_hidden": false
    },
    "pycharm": {
     "name": "#%%\n"
    }
   },
   "outputs": [],
   "source": [
    "inputVector"
   ]
  },
  {
   "cell_type": "code",
   "execution_count": null,
   "metadata": {
    "collapsed": false,
    "jupyter": {
     "outputs_hidden": false
    },
    "pycharm": {
     "name": "#%%\n"
    }
   },
   "outputs": [],
   "source": [
    "inputVector = [0,0,0,0,0,0,0,1]\n",
    "circ = QuantumCircuit(q)\n",
    "U_i(circ, inputVector)\n",
    "print(inputVector)\n",
    "draw_state_vector(circ)"
   ]
  },
  {
   "cell_type": "code",
   "execution_count": null,
   "metadata": {
    "collapsed": false,
    "jupyter": {
     "outputs_hidden": false
    },
    "pycharm": {
     "name": "#%%\n"
    }
   },
   "outputs": [],
   "source": [
    "inputVector = [0., 0., 0., 0., 0., 0., 0., 0., 0., 0., 0., 0., 0., 0., 0., 1.]\n",
    "circ = QuantumCircuit(q)\n",
    "U_i(circ, inputVector)\n",
    "print(inputVector)\n",
    "draw_state_vector(circ)"
   ]
  },
  {
   "cell_type": "code",
   "execution_count": null,
   "metadata": {
    "collapsed": false,
    "jupyter": {
     "outputs_hidden": false
    },
    "pycharm": {
     "name": "#%%\n"
    }
   },
   "outputs": [],
   "source": [
    "inputVector = [0,0,0,0,0,1,0,0]\n",
    "circ = QuantumCircuit(q)\n",
    "U_i(circ, inputVector)\n",
    "print(inputVector)\n",
    "draw_state_vector(circ)"
   ]
  },
  {
   "cell_type": "code",
   "execution_count": null,
   "metadata": {
    "collapsed": false,
    "jupyter": {
     "outputs_hidden": false
    },
    "pycharm": {
     "name": "#%%\n"
    }
   },
   "outputs": [],
   "source": [
    "print(inputVector)\n",
    "circ = QuantumCircuit(q)\n",
    "U_i(circ, inputVector)\n",
    "draw_state_vector(circ)"
   ]
  },
  {
   "cell_type": "code",
   "execution_count": null,
   "metadata": {
    "collapsed": false,
    "jupyter": {
     "outputs_hidden": false
    },
    "pycharm": {
     "name": "#%%\n"
    }
   },
   "outputs": [],
   "source": [
    "print(inputVector)\n",
    "circ = QuantumCircuit(q)\n",
    "U_i(circ, inputVector)\n",
    "draw_state_vector(circ)"
   ]
  },
  {
   "cell_type": "code",
   "execution_count": null,
   "metadata": {
    "collapsed": false,
    "jupyter": {
     "outputs_hidden": false
    },
    "pycharm": {
     "name": "#%%\n"
    }
   },
   "outputs": [],
   "source": []
  },
  {
   "cell_type": "code",
   "execution_count": null,
   "metadata": {
    "collapsed": false,
    "jupyter": {
     "outputs_hidden": false
    },
    "pycharm": {
     "name": "#%%\n"
    }
   },
   "outputs": [],
   "source": []
  },
  {
   "cell_type": "code",
   "execution_count": null,
   "metadata": {
    "collapsed": false,
    "jupyter": {
     "outputs_hidden": false
    },
    "pycharm": {
     "name": "#%%\n"
    }
   },
   "outputs": [],
   "source": []
  },
  {
   "cell_type": "markdown",
   "metadata": {},
   "source": [
    "# Esecuzione del circuito completo"
   ]
  },
  {
   "cell_type": "code",
   "execution_count": null,
   "metadata": {
    "collapsed": false,
    "jupyter": {
     "outputs_hidden": false
    },
    "pycharm": {
     "name": "#%%\n"
    }
   },
   "outputs": [],
   "source": [
    "inputVector = [1.0,\n",
    " 0.0,\n",
    " 0.0,\n",
    " 0.0,\n",
    " 0.0,\n",
    " 0.0,\n",
    " 0.0,\n",
    " 0.0,\n",
    " 0.0,\n",
    " 0.0,\n",
    " 0.0,\n",
    " 0.0,\n",
    " 0.0,\n",
    " 0.0,\n",
    " 0.0,\n",
    " 0.0]\n",
    "\n",
    "weightVector = [0.0,\n",
    " 1.0,\n",
    " 1.0,\n",
    " 1.0,\n",
    " 1.0,\n",
    " 1.0,\n",
    " 1.0,\n",
    " 1.0,\n",
    " 1.0,\n",
    " 1.0,\n",
    " 1.0,\n",
    " 1.0,\n",
    " 1.0,\n",
    " 1.0,\n",
    " 1.0,\n",
    " 1.0]"
   ]
  },
  {
   "cell_type": "code",
   "execution_count": 50,
   "metadata": {
    "collapsed": false,
    "jupyter": {
     "outputs_hidden": false
    },
    "pycharm": {
     "is_executing": false,
     "name": "#%%\n"
    }
   },
   "outputs": [],
   "source": [
    "def numtovect(k,N):\n",
    "    m = 2**N\n",
    "    v = np.zeros(m)\n",
    "    binary_string = (\"{:0%db}\"%m).format(k)\n",
    "    #convert k to an m-digit binary number\n",
    "    #print(binary_string)\n",
    "    v = list(map(lambda v, b : v**int(b), v, binary_string)) \n",
    "    return np.array(v)\n"
   ]
  },
  {
   "cell_type": "code",
   "execution_count": null,
   "metadata": {
    "collapsed": false,
    "jupyter": {
     "outputs_hidden": false
    },
    "pycharm": {
     "name": "#%%\n"
    }
   },
   "outputs": [],
   "source": [
    "q = QuantumRegister(N, 'q')\n",
    "a = QuantumRegister(1, 'a')\n",
    "b = ClassicalRegister(1, 'b')\n",
    "circ = QuantumCircuit(q,a,b)\n",
    "U_i(circ, numtovect(3,N))\n",
    "U_w(circ, weightVector)\n",
    "# (theta, q_controls, q_target, use_basis_gates=False)\n",
    "circ.mcrx(np.pi, q, a[0])\n",
    "circ.measure(a, b)\n",
    "\n",
    "draw_state_vector(circ)"
   ]
  },
  {
   "cell_type": "code",
   "execution_count": null,
   "metadata": {
    "collapsed": false,
    "jupyter": {
     "outputs_hidden": false
    },
    "pycharm": {
     "name": "#%%\n"
    }
   },
   "outputs": [],
   "source": [
    "q = QuantumRegister(N, 'q')\n",
    "a = QuantumRegister(1, 'a')\n",
    "b = ClassicalRegister(1, 'b')\n",
    "circ = QuantumCircuit(q,a,b)\n",
    "U_i(circ, numtovect(0,N))\n",
    "U_w(circ, numtovect(4, N))\n",
    "# (theta, q_controls, q_target, use_basis_gates=False)\n",
    "circ.mcrx(np.pi, q, a[0])\n",
    "circ.measure(a, b)\n",
    "\n",
    "# draw_state_vector(circ)\n",
    "\n",
    "simulator = Aer.get_backend('qasm_simulator')\n",
    "job = execute(circ, simulator, shots=1024)\n",
    "result = job.result()\n",
    "counts = result.get_counts(circ)\n",
    "print(\"\\nTotal counts are:\",counts)\n",
    "# plot_histogram(counts)"
   ]
  },
  {
   "cell_type": "code",
   "execution_count": null,
   "metadata": {
    "collapsed": false,
    "jupyter": {
     "outputs_hidden": false
    },
    "pycharm": {
     "name": "#%%\n"
    }
   },
   "outputs": [],
   "source": []
  },
  {
   "cell_type": "code",
   "execution_count": null,
   "metadata": {
    "collapsed": false,
    "jupyter": {
     "outputs_hidden": false
    },
    "pycharm": {
     "name": "#%%\n"
    }
   },
   "outputs": [],
   "source": [
    "simulator = Aer.get_backend('qasm_simulator')\n",
    "job = execute(circ, simulator, shots=1024)\n",
    "result = job.result()\n",
    "counts = result.get_counts(circ)\n",
    "print(\"\\nTotal counts are:\",counts)\n",
    "# plot_histogram(counts)"
   ]
  },
  {
   "cell_type": "code",
   "execution_count": null,
   "metadata": {
    "collapsed": false,
    "jupyter": {
     "outputs_hidden": false
    },
    "pycharm": {
     "name": "#%%\n"
    }
   },
   "outputs": [],
   "source": [
    "counts.get('0')"
   ]
  },
  {
   "cell_type": "code",
   "execution_count": null,
   "metadata": {
    "collapsed": false,
    "jupyter": {
     "outputs_hidden": false
    },
    "pycharm": {
     "name": "#%%\n"
    }
   },
   "outputs": [],
   "source": [
    "numtovect(0,4)"
   ]
  },
  {
   "cell_type": "code",
   "execution_count": null,
   "metadata": {
    "collapsed": false,
    "jupyter": {
     "outputs_hidden": false
    },
    "pycharm": {
     "name": "#%%\n"
    }
   },
   "outputs": [],
   "source": [
    "datetime.now().time().minute"
   ]
  },
  {
   "cell_type": "code",
   "execution_count": null,
   "metadata": {
    "collapsed": false,
    "jupyter": {
     "outputs_hidden": false
    },
    "pycharm": {
     "name": "#%%\n"
    }
   },
   "outputs": [],
   "source": [
    "import datetime\n",
    "datetime.timedelta(minutes=10)"
   ]
  },
  {
   "cell_type": "code",
   "execution_count": null,
   "metadata": {
    "collapsed": false,
    "jupyter": {
     "outputs_hidden": false
    },
    "pycharm": {
     "name": "#%%\n"
    }
   },
   "outputs": [],
   "source": [
    "start = datetime.now()"
   ]
  },
  {
   "cell_type": "code",
   "execution_count": null,
   "metadata": {
    "collapsed": false,
    "jupyter": {
     "outputs_hidden": false
    },
    "pycharm": {
     "name": "#%%\n"
    }
   },
   "outputs": [],
   "source": [
    "end = datetime.now()"
   ]
  },
  {
   "cell_type": "code",
   "execution_count": null,
   "metadata": {
    "collapsed": false,
    "jupyter": {
     "outputs_hidden": false
    },
    "pycharm": {
     "name": "#%%\n"
    }
   },
   "outputs": [],
   "source": [
    "end - start"
   ]
  },
  {
   "cell_type": "code",
   "execution_count": 63,
   "metadata": {
    "collapsed": false,
    "jupyter": {
     "outputs_hidden": false
    },
    "pycharm": {
     "is_executing": false,
     "name": "#%%\n"
    }
   },
   "outputs": [
    {
     "name": "stdout",
     "output_type": "stream",
     "text": [
      "19:41:07.021549\n",
      "Vettore d'input #0\n",
      "Vettore d'input #1\n",
      "Vettore d'input #2\n",
      "Vettore d'input #3\n",
      "Vettore d'input #4\n",
      "Vettore d'input #5\n",
      "Vettore d'input #6\n",
      "Vettore d'input #7\n",
      "Vettore d'input #8\n",
      "Vettore d'input #9\n",
      "Vettore d'input #10\n",
      "Vettore d'input #11\n",
      "Vettore d'input #12\n",
      "Vettore d'input #13\n",
      "Vettore d'input #14\n",
      "Vettore d'input #15\n",
      "Vettore d'input #16\n",
      "Vettore d'input #17\n",
      "Vettore d'input #18\n",
      "Vettore d'input #19\n",
      "Vettore d'input #20\n",
      "Vettore d'input #21\n",
      "Vettore d'input #22\n",
      "Vettore d'input #23\n",
      "Vettore d'input #24\n",
      "Vettore d'input #25\n",
      "Vettore d'input #26\n",
      "Vettore d'input #27\n",
      "Vettore d'input #28\n",
      "Vettore d'input #29\n",
      "Vettore d'input #30\n",
      "Vettore d'input #31\n",
      "Vettore d'input #32\n",
      "Vettore d'input #33\n",
      "Vettore d'input #34\n",
      "Vettore d'input #35\n",
      "Vettore d'input #36\n",
      "Vettore d'input #37\n",
      "Vettore d'input #38\n",
      "Vettore d'input #39\n",
      "Vettore d'input #40\n",
      "Vettore d'input #41\n",
      "Vettore d'input #42\n",
      "Vettore d'input #43\n",
      "Vettore d'input #44\n",
      "Vettore d'input #45\n",
      "Vettore d'input #46\n",
      "Vettore d'input #47\n",
      "Vettore d'input #48\n",
      "Vettore d'input #49\n",
      "Vettore d'input #50\n",
      "Vettore d'input #51\n",
      "Vettore d'input #52\n",
      "Vettore d'input #53\n",
      "Vettore d'input #54\n",
      "Vettore d'input #55\n",
      "Vettore d'input #56\n",
      "Vettore d'input #57\n",
      "Vettore d'input #58\n",
      "Vettore d'input #59\n",
      "Vettore d'input #60\n",
      "Vettore d'input #61\n",
      "Vettore d'input #62\n",
      "Vettore d'input #63\n",
      "Vettore d'input #64\n",
      "Vettore d'input #65\n",
      "Vettore d'input #66\n",
      "Vettore d'input #67\n",
      "Vettore d'input #68\n",
      "Vettore d'input #69\n",
      "Vettore d'input #70\n",
      "Vettore d'input #71\n",
      "Vettore d'input #72\n",
      "Vettore d'input #73\n",
      "Vettore d'input #74\n",
      "Vettore d'input #75\n",
      "Vettore d'input #76\n",
      "Vettore d'input #77\n",
      "Vettore d'input #78\n",
      "Vettore d'input #79\n",
      "Vettore d'input #80\n",
      "Vettore d'input #81\n",
      "Vettore d'input #82\n",
      "Vettore d'input #83\n",
      "Vettore d'input #84\n",
      "Vettore d'input #85\n",
      "Vettore d'input #86\n",
      "Vettore d'input #87\n",
      "Vettore d'input #88\n",
      "Vettore d'input #89\n",
      "Vettore d'input #90\n",
      "Vettore d'input #91\n",
      "Vettore d'input #92\n",
      "Vettore d'input #93\n",
      "Vettore d'input #94\n",
      "Vettore d'input #95\n",
      "Vettore d'input #96\n",
      "Vettore d'input #97\n",
      "Vettore d'input #98\n",
      "Vettore d'input #99\n",
      "Vettore d'input #100\n",
      "Vettore d'input #101\n",
      "Vettore d'input #102\n",
      "Vettore d'input #103\n",
      "Vettore d'input #104\n",
      "Vettore d'input #105\n",
      "Vettore d'input #106\n",
      "Vettore d'input #107\n",
      "Vettore d'input #108\n",
      "Vettore d'input #109\n",
      "Vettore d'input #110\n",
      "Vettore d'input #111\n",
      "Vettore d'input #112\n",
      "Vettore d'input #113\n",
      "Vettore d'input #114\n",
      "Vettore d'input #115\n",
      "Vettore d'input #116\n",
      "Vettore d'input #117\n",
      "Vettore d'input #118\n",
      "Vettore d'input #119\n",
      "Vettore d'input #120\n",
      "Vettore d'input #121\n",
      "Vettore d'input #122\n",
      "Vettore d'input #123\n",
      "Vettore d'input #124\n",
      "Vettore d'input #125\n",
      "Vettore d'input #126\n",
      "Vettore d'input #127\n",
      "Vettore d'input #128\n",
      "Vettore d'input #129\n",
      "Vettore d'input #130\n",
      "Vettore d'input #131\n",
      "Vettore d'input #132\n",
      "Vettore d'input #133\n",
      "Vettore d'input #134\n",
      "Vettore d'input #135\n",
      "Vettore d'input #136\n",
      "Vettore d'input #137\n",
      "Vettore d'input #138\n",
      "Vettore d'input #139\n",
      "Vettore d'input #140\n",
      "Vettore d'input #141\n",
      "Vettore d'input #142\n",
      "Vettore d'input #143\n",
      "Vettore d'input #144\n",
      "Vettore d'input #145\n",
      "Vettore d'input #146\n",
      "Vettore d'input #147\n",
      "Vettore d'input #148\n",
      "Vettore d'input #149\n",
      "Vettore d'input #150\n",
      "Vettore d'input #151\n",
      "Vettore d'input #152\n",
      "Vettore d'input #153\n",
      "Vettore d'input #154\n",
      "Vettore d'input #155\n",
      "Vettore d'input #156\n",
      "Vettore d'input #157\n",
      "Vettore d'input #158\n",
      "Vettore d'input #159\n",
      "Vettore d'input #160\n",
      "Vettore d'input #161\n",
      "Vettore d'input #162\n",
      "Vettore d'input #163\n",
      "Vettore d'input #164\n",
      "Vettore d'input #165\n",
      "Vettore d'input #166\n",
      "Vettore d'input #167\n",
      "Vettore d'input #168\n",
      "Vettore d'input #169\n",
      "Vettore d'input #170\n",
      "Vettore d'input #171\n",
      "Vettore d'input #172\n",
      "Vettore d'input #173\n",
      "Vettore d'input #174\n",
      "Vettore d'input #175\n",
      "Vettore d'input #176\n",
      "Vettore d'input #177\n",
      "Vettore d'input #178\n",
      "Vettore d'input #179\n",
      "Vettore d'input #180\n",
      "Vettore d'input #181\n",
      "Vettore d'input #182\n",
      "Vettore d'input #183\n",
      "Vettore d'input #184\n",
      "Vettore d'input #185\n",
      "Vettore d'input #186\n",
      "Vettore d'input #187\n",
      "Vettore d'input #188\n",
      "Vettore d'input #189\n",
      "Vettore d'input #190\n",
      "Vettore d'input #191\n",
      "Vettore d'input #192\n",
      "Vettore d'input #193\n",
      "Vettore d'input #194\n",
      "Vettore d'input #195\n",
      "Vettore d'input #196\n",
      "Vettore d'input #197\n",
      "Vettore d'input #198\n",
      "Vettore d'input #199\n",
      "Vettore d'input #200\n",
      "Vettore d'input #201\n",
      "Vettore d'input #202\n",
      "Vettore d'input #203\n",
      "Vettore d'input #204\n",
      "Vettore d'input #205\n",
      "Vettore d'input #206\n",
      "Vettore d'input #207\n",
      "Vettore d'input #208\n",
      "Vettore d'input #209\n",
      "Vettore d'input #210\n",
      "Vettore d'input #211\n",
      "Vettore d'input #212\n",
      "Vettore d'input #213\n",
      "Vettore d'input #214\n",
      "Vettore d'input #215\n",
      "Vettore d'input #216\n",
      "Vettore d'input #217\n",
      "Vettore d'input #218\n",
      "Vettore d'input #219\n",
      "Vettore d'input #220\n",
      "Vettore d'input #221\n",
      "Vettore d'input #222\n",
      "Vettore d'input #223\n",
      "Vettore d'input #224\n",
      "Vettore d'input #225\n",
      "Vettore d'input #226\n",
      "Vettore d'input #227\n",
      "Vettore d'input #228\n",
      "Vettore d'input #229\n",
      "Vettore d'input #230\n",
      "Vettore d'input #231\n",
      "Vettore d'input #232\n",
      "Vettore d'input #233\n",
      "Vettore d'input #234\n",
      "Vettore d'input #235\n",
      "Vettore d'input #236\n",
      "Vettore d'input #237\n",
      "Vettore d'input #238\n",
      "Vettore d'input #239\n",
      "Vettore d'input #240\n",
      "Vettore d'input #241\n",
      "Vettore d'input #242\n",
      "Vettore d'input #243\n",
      "Vettore d'input #244\n",
      "Vettore d'input #245\n",
      "Vettore d'input #246\n",
      "Vettore d'input #247\n",
      "Vettore d'input #248\n",
      "Vettore d'input #249\n",
      "Vettore d'input #250\n",
      "Vettore d'input #251\n",
      "Vettore d'input #252\n",
      "Vettore d'input #253\n",
      "Vettore d'input #254\n",
      "Vettore d'input #255\n",
      "19:46:03.108175\n",
      "Tempo di costruzione: 0:04:56.086619\n",
      "Inizio l'assemblaggio di tutti i circuiti\n",
      "Tempo di esecuzione: 2:10:19.969989\n"
     ]
    }
   ],
   "source": [
    "from datetime import datetime, timedelta\n",
    "\n",
    "N = 3\n",
    "\n",
    "base_computazionale = np.zeros((2**N,N))\n",
    "for i in range(2**N):\n",
    "    for cifra in range(N):\n",
    "        base_computazionale[i][cifra] = format(i, '0'+str(N)+'b')[N-1-cifra]\n",
    "base_computazionale\n",
    "\n",
    "listaCircuiti = []\n",
    "\n",
    "startTime = datetime.now()\n",
    "\n",
    "print(datetime.now().time())\n",
    "outcomes = np.zeros((2**(2**N),2**(2**N)))\n",
    "for i in range(2**(2**N)):\n",
    "    forTime0 = datetime.now()\n",
    "    print(\"Vettore d'input #\" + str(i))\n",
    "    for w in range(2**(2**N)):\n",
    "        q = QuantumRegister(N, 'q')\n",
    "        a = QuantumRegister(1, 'a')\n",
    "        b = ClassicalRegister(1, 'b')\n",
    "        circ = QuantumCircuit(q,a,b)\n",
    "        # print('Input vector: ' + str(numtovect(i,N)) + ' - Weight vector: ' + str(numtovect(w,N)))\n",
    "        U_i(circ, numtovect(i,N))\n",
    "        U_w(circ, numtovect(w, N))\n",
    "        # (theta, q_controls, q_target, use_basis_gates=False)\n",
    "        circ.mcrx(np.pi, q, a[0])\n",
    "        circ.measure(a, b)\n",
    "\n",
    "        listaCircuiti.append(circ)\n",
    "        # draw_state_vector(circ)\n",
    "\n",
    "        \n",
    "    # forTime1 = datetime.now()\n",
    "    # print(\"Tempo per un vettore d'input: \" + str(forTime1 - forTime0))\n",
    "endTime = datetime.now()\n",
    "print(datetime.now().time())\n",
    "print('Tempo di costruzione: ' + str(endTime - startTime))\n",
    "print(\"Inizio l'assemblaggio di tutti i circuiti\")\n",
    "startTime = datetime.now()\n",
    "# Add to your import statements\n",
    "from qiskit.compiler import transpile, assemble\n",
    "\n",
    "# After creating qc_list\n",
    "backend = Aer.get_backend('qasm_simulator')\n",
    "transpiled_circs = transpile(listaCircuiti, backend=backend)\n",
    "qobjs = assemble(transpiled_circs, backend=backend)\n",
    "job_info = backend.run(qobjs)\n",
    "\n",
    "# To get the results\n",
    "\n",
    "for circ_index in range(len(transpiled_circs)):\n",
    "    counts = job_info.result().get_counts(transpiled_circs[circ_index])\n",
    "    if len(counts) == 1:\n",
    "        outcomes[int(int(circ_index)/int(2**(2**N)))][int(int(circ_index)%int(2**(2**N)))] = int([*counts][0]) # unpacking\n",
    "    else:\n",
    "        outcomes[int(int(circ_index)/int(2**(2**N)))][int(int(circ_index)%int(2**(2**N)))] = counts['1']/float(1024)\n",
    "endTime = datetime.now()\n",
    "print(\"Tempo di esecuzione:\", endTime-startTime)\n",
    "# simulator = Aer.get_backend('qasm_simulator')\n",
    "# job = execute(circ, simulator, shots=1024)\n",
    "# result = job.result()\n",
    "# counts = result.get_counts(circ)\n",
    "#print(\"\\nTotal counts are:\",counts)\n",
    "# plot_histogram(counts)\n",
    "# if len(counts) == 1:\n",
    "#     outcomes[i][w] = int([*counts][0]) # unpacking\n",
    "# else:\n",
    "# outcomes[i][w] = counts['1']/float(1024)"
   ]
  },
  {
   "cell_type": "code",
   "execution_count": 64,
   "metadata": {
    "collapsed": false,
    "jupyter": {
     "outputs_hidden": false
    },
    "pycharm": {
     "is_executing": false,
     "name": "#%%\n"
    }
   },
   "outputs": [
    {
     "data": {
      "text/plain": [
       "<matplotlib.colorbar.Colorbar at 0x7f5fd3c79890>"
      ]
     },
     "execution_count": 64,
     "metadata": {},
     "output_type": "execute_result"
    },
    {
     "data": {
      "image/png": "[encoded data removed]",
      "text/plain": [
       "<Figure size 432x288 with 2 Axes>"
      ]
     },
     "metadata": {
      "needs_background": "light"
     },
     "output_type": "display_data"
    }
   ],
   "source": [
    "import numpy as np\n",
    "import matplotlib.pyplot as plt\n",
    "\n",
    "fig, ax = plt.subplots()\n",
    "#ax.matshow(outcomes, cmap=plt.cm.Blues)\n",
    "ax.set_xlabel(\"weight\")\n",
    "ax.set_ylabel(\"input\")\n",
    "\n",
    "out_plot = ax.imshow(outcomes, cmap='Blues', interpolation='none')\n",
    "fig.colorbar(out_plot, ax=ax)\n",
    "\n",
    "# fig.savefig('inputs_v_weights.png', dpi=1000)"
   ]
  },
  {
   "cell_type": "code",
   "execution_count": null,
   "metadata": {
    "collapsed": false,
    "jupyter": {
     "outputs_hidden": false
    },
    "pycharm": {
     "name": "#%%\n"
    }
   },
   "outputs": [],
   "source": [
    "import dill\n",
    "filename = 'citymap_N3.pkl'\n",
    "dill.dump_session(filename)\n",
    "\n",
    "# and to load the session again:\n",
    "# dill.load_session(filename)"
   ]
  },
  {
   "cell_type": "code",
   "execution_count": null,
   "metadata": {
    "collapsed": false,
    "jupyter": {
     "outputs_hidden": false
    },
    "pycharm": {
     "name": "#%%\n"
    }
   },
   "outputs": [],
   "source": [
    "(numtovect(34,3))"
   ]
  },
  {
   "cell_type": "code",
   "execution_count": null,
   "metadata": {
    "collapsed": false,
    "jupyter": {
     "outputs_hidden": false
    },
    "pycharm": {
     "name": "#%%\n"
    }
   },
   "outputs": [],
   "source": [
    "N = 3\n",
    "vectors = [numtovect(k,N) for k in range(2**(2**N))]\n",
    "for i, v in enumerate(vectors):\n",
    "    print(\"k=\",i,\" \", v)"
   ]
  },
  {
   "cell_type": "code",
   "execution_count": null,
   "metadata": {
    "collapsed": false,
    "jupyter": {
     "outputs_hidden": false
    },
    "pycharm": {
     "name": "#%%\n"
    }
   },
   "outputs": [],
   "source": [
    "c_cir(N,inputVector, weightVector)\n"
   ]
  },
  {
   "cell_type": "code",
   "execution_count": null,
   "metadata": {
    "collapsed": false,
    "jupyter": {
     "outputs_hidden": false
    },
    "pycharm": {
     "name": "#%%\n"
    }
   },
   "outputs": [],
   "source": [
    "\n",
    "# Tempi in funzione di N (sequenziale)\n",
    "# N - Tempo totale - Tempo medio per vettore d'input (riga)\n",
    "# 2 - 0:00:15.781950 - 0:00:01.236381 * 16\n",
    "# 3 - 4:24:20.956383 - 0:01:16.679671 * 256\n",
    "# 4 - ?:??:??.?????? -  * 65536\n",
    "\n",
    "\n",
    "# Tempi con il transpiling di Qiskit\n",
    "# N - tot\n",
    "# 2 - 0:00:06.797629\n",
    "# 3 - 0:04:56.086619"
   ]
  },
  {
   "cell_type": "code",
   "execution_count": null,
   "metadata": {
    "collapsed": false,
    "jupyter": {
     "outputs_hidden": false
    },
    "pycharm": {
     "name": "#%%\n"
    }
   },
   "outputs": [],
   "source": []
  },
  {
   "cell_type": "code",
   "execution_count": null,
   "metadata": {
    "collapsed": false,
    "jupyter": {
     "outputs_hidden": false
    },
    "pycharm": {
     "name": "#%%\n"
    }
   },
   "outputs": [],
   "source": [
    "# Add to your import statements\n",
    "from qiskit.compiler import transpile, assemble\n",
    "\n",
    "# After creating qc_list\n",
    "backend = Aer.get_backend('qasm_simulator')\n",
    "transpiled_circs = transpile(qc_list, backend=backend)\n",
    "qobjs = assemble(transpiled_circs, backend=backend)\n",
    "job_info = backend.run(qobjs)\n",
    "\n",
    "# To get the results\n",
    "for circ_index in range(len(transpiled_circs)):\n",
    "    print(job_info.result().get_counts(transpiled_circs[circ_index]))"
   ]
  },
  {
   "cell_type": "code",
   "execution_count": null,
   "metadata": {
    "collapsed": false,
    "jupyter": {
     "outputs_hidden": false
    },
    "pycharm": {
     "name": "#%%\n"
    }
   },
   "outputs": [],
   "source": []
  },
  {
   "cell_type": "code",
   "execution_count": null,
   "metadata": {
    "collapsed": false,
    "jupyter": {
     "outputs_hidden": false
    },
    "pycharm": {
     "name": "#%%\n"
    }
   },
   "outputs": [],
   "source": []
  },
  {
   "cell_type": "code",
   "execution_count": null,
   "metadata": {
    "collapsed": false,
    "jupyter": {
     "outputs_hidden": false
    },
    "pycharm": {
     "name": "#%%\n"
    }
   },
   "outputs": [],
   "source": []
  },
  {
   "cell_type": "code",
   "execution_count": null,
   "metadata": {
    "collapsed": false,
    "jupyter": {
     "outputs_hidden": false
    },
    "pycharm": {
     "name": "#%%\n"
    }
   },
   "outputs": [],
   "source": []
  },
  {
   "cell_type": "code",
   "execution_count": null,
   "metadata": {
    "collapsed": false,
    "jupyter": {
     "outputs_hidden": false
    },
    "pycharm": {
     "name": "#%%\n"
    }
   },
   "outputs": [],
   "source": []
  },
  {
   "cell_type": "code",
   "execution_count": null,
   "metadata": {
    "collapsed": false,
    "jupyter": {
     "outputs_hidden": false
    },
    "pycharm": {
     "name": "#%%\n"
    }
   },
   "outputs": [],
   "source": []
  },
  {
   "cell_type": "code",
   "execution_count": null,
   "metadata": {
    "collapsed": false,
    "jupyter": {
     "outputs_hidden": false
    },
    "pycharm": {
     "name": "#%%\n"
    }
   },
   "outputs": [],
   "source": []
  },
  {
   "cell_type": "code",
   "execution_count": null,
   "metadata": {
    "collapsed": false,
    "jupyter": {
     "outputs_hidden": false
    },
    "pycharm": {
     "name": "#%%\n"
    }
   },
   "outputs": [],
   "source": []
  },
  {
   "cell_type": "code",
   "execution_count": null,
   "metadata": {
    "collapsed": false,
    "jupyter": {
     "outputs_hidden": false
    },
    "pycharm": {
     "name": "#%%\n"
    }
   },
   "outputs": [],
   "source": []
  }
 ],
 "metadata": {
  "kernelspec": {
   "display_name": "Python 3",
   "language": "python",
   "name": "python3"
  },
  "language_info": {
   "codemirror_mode": {
    "name": "ipython",
    "version": 3
   },
   "file_extension": ".py",
   "mimetype": "text/x-python",
   "name": "python",
   "nbconvert_exporter": "python",
   "pygments_lexer": "ipython3",
   "version": "3.8.5"
  },
  "pycharm": {
   "stem_cell": {
    "cell_type": "raw",
    "metadata": {
     "collapsed": false
    },
    "source": []
   }
  }
 },
 "nbformat": 4,
 "nbformat_minor": 4
}
