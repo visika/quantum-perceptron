{
 "cells": [
  {
   "cell_type": "markdown",
   "metadata": {},
   "source": [
    "# Perceptron"
   ]
  },
  {
   "cell_type": "code",
   "execution_count": null,
   "metadata": {},
   "outputs": [],
   "source": [
    "import numpy as np\n",
    "from qiskit import QuantumCircuit, ClassicalRegister, QuantumRegister\n",
    "from qiskit import (\n",
    "    execute,\n",
    "    Aer)"
   ]
  },
  {
   "cell_type": "code",
   "execution_count": null,
   "metadata": {},
   "outputs": [],
   "source": [
    "q = QuantumRegister(2, 'q')\n",
    "a = QuantumRegister(1, 'a')\n",
    "c = ClassicalRegister(1, 'c')"
   ]
  },
  {
   "cell_type": "markdown",
   "metadata": {},
   "source": [
    "# Define bit flip gates for each j"
   ]
  },
  {
   "cell_type": "code",
   "execution_count": null,
   "metadata": {},
   "outputs": [],
   "source": [
    "# 0001\n",
    "bf0 = QuantumCircuit(q)\n",
    "bf0.x(q)\n",
    "bf0.h(q[1])\n",
    "bf0.cx(q[0], q[1])\n",
    "bf0.h(q[1])\n",
    "bf0.x(q)"
   ]
  },
  {
   "cell_type": "code",
   "execution_count": null,
   "metadata": {},
   "outputs": [],
   "source": [
    "# 0010\n",
    "bf1 = QuantumCircuit(q)\n",
    "bf1.x(q[1])\n",
    "bf1.h(q[1])\n",
    "bf1.cx(q[0], q[1])\n",
    "bf1.h(q[1])\n",
    "bf1.x(q[1])"
   ]
  },
  {
   "cell_type": "code",
   "execution_count": null,
   "metadata": {},
   "outputs": [],
   "source": [
    "# 0100\n",
    "bf2 = QuantumCircuit(q)\n",
    "bf2.x(q[0])\n",
    "bf2.h(q[1])\n",
    "bf2.cx(q[0], q[1])\n",
    "bf2.h(q[1])\n",
    "bf2.x(q[0])"
   ]
  },
  {
   "cell_type": "code",
   "execution_count": null,
   "metadata": {},
   "outputs": [],
   "source": [
    "# 1000\n",
    "bf3 = QuantumCircuit(q)\n",
    "bf3.h(q[1])\n",
    "bf3.cx(q[0], q[1])\n",
    "bf3.h(q[1])"
   ]
  },
  {
   "cell_type": "code",
   "execution_count": null,
   "metadata": {},
   "outputs": [],
   "source": [
    "# Creating array of bit flip circuits\n",
    "bf = [bf0, bf1, bf2, bf3]"
   ]
  },
  {
   "cell_type": "code",
   "execution_count": null,
   "metadata": {},
   "outputs": [],
   "source": [
    "# U_i crea il vettore di ingresso\n",
    "def U_i(circuit, flip0, flip1, flip2, flip3):\n",
    "    u_i = QuantumCircuit(q)\n",
    "    u_i.h(q)\n",
    "    if flip0: u_i += bf[0]\n",
    "    if flip1: u_i += bf[1]\n",
    "    if flip2: u_i += bf[2]\n",
    "    if flip3: u_i += bf[3]\n",
    "    circuit += u_i"
   ]
  },
  {
   "cell_type": "code",
   "execution_count": null,
   "metadata": {},
   "outputs": [],
   "source": [
    "# U_w crea il vettore peso\n",
    "def U_w(circuit, flip0, flip1, flip2, flip3):\n",
    "    u_w = QuantumCircuit(q)\n",
    "    if flip0: u_w += bf[0]\n",
    "    if flip1: u_w += bf[1]\n",
    "    if flip2: u_w += bf[2]\n",
    "    if flip3: u_w += bf[3]\n",
    "    u_w.h(q)\n",
    "    u_w.x(q)\n",
    "    circuit += u_w"
   ]
  },
  {
   "cell_type": "code",
   "execution_count": null,
   "metadata": {},
   "outputs": [],
   "source": [
    "circ = QuantumCircuit(q,a,c)\n",
    "U_i(circ, 0, 0, 0, 0)\n",
    "U_w(circ, 0, 0, 0, 0)\n",
    "circ.ccx(q[0],q[1],a)\n",
    "circ.measure(a,c)\n",
    "circ.draw(output='mpl')"
   ]
  },
  {
   "cell_type": "code",
   "execution_count": null,
   "metadata": {},
   "outputs": [],
   "source": [
    "circuit = QuantumCircuit(2,2)\n",
    "circuit += bf[0]\n",
    "circuit.measure([0,1],[0,1])\n",
    "circuit.draw(output='mpl')"
   ]
  },
  {
   "cell_type": "code",
   "execution_count": null,
   "metadata": {},
   "outputs": [],
   "source": [
    "simulator = Aer.get_backend('qasm_simulator')\n",
    "job = execute(circuit, simulator, shots=1000)\n",
    "result = job.result()\n",
    "counts = result.get_counts(circuit)\n",
    "print(\"\\nTotal count for 00 and 11 are:\",counts)"
   ]
  },
  {
   "cell_type": "code",
   "execution_count": null,
   "metadata": {},
   "outputs": [],
   "source": []
  }
 ],
 "metadata": {
  "kernelspec": {
   "display_name": "Python 3",
   "language": "python",
   "name": "python3"
  },
  "language_info": {
   "codemirror_mode": {
    "name": "ipython",
    "version": 3
   },
   "file_extension": ".py",
   "mimetype": "text/x-python",
   "name": "python",
   "nbconvert_exporter": "python",
   "pygments_lexer": "ipython3",
   "version": "3.8.5"
  }
 },
 "nbformat": 4,
 "nbformat_minor": 4
}
